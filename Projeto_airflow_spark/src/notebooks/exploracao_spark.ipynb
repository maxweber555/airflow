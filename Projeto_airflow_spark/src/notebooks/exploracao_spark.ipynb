{
 "cells": [
  {
   "cell_type": "code",
   "execution_count": 1,
   "metadata": {},
   "outputs": [],
   "source": [
    "#!pip install  pyspark==3.3.1."
   ]
  },
  {
   "cell_type": "code",
   "execution_count": 2,
   "metadata": {},
   "outputs": [],
   "source": [
    "from pyspark.sql import  SparkSession"
   ]
  },
  {
   "cell_type": "code",
   "execution_count": 3,
   "metadata": {},
   "outputs": [
    {
     "name": "stdout",
     "output_type": "stream",
     "text": [
      "25/01/30 10:56:31 WARN Utils: Your hostname, maxweber-VM resolves to a loopback address: 127.0.1.1; using 172.19.181.10 instead (on interface eth0)\n",
      "25/01/30 10:56:31 WARN Utils: Set SPARK_LOCAL_IP if you need to bind to another address\n"
     ]
    },
    {
     "name": "stderr",
     "output_type": "stream",
     "text": [
      "Setting default log level to \"WARN\".\n",
      "To adjust logging level use sc.setLogLevel(newLevel). For SparkR, use setLogLevel(newLevel).\n"
     ]
    },
    {
     "name": "stdout",
     "output_type": "stream",
     "text": [
      "25/01/30 10:56:31 WARN NativeCodeLoader: Unable to load native-hadoop library for your platform... using builtin-java classes where applicable\n"
     ]
    }
   ],
   "source": [
    "spark = SparkSession\\\n",
    "    .builder\\\n",
    "    .appName(\"twitter_trasformation\")\\\n",
    "    .getOrCreate()"
   ]
  },
  {
   "cell_type": "code",
   "execution_count": 4,
   "metadata": {},
   "outputs": [],
   "source": [
    "df = spark.read.json(\"/home/maxweber/Notbook/airflow/datalake\")"
   ]
  },
  {
   "cell_type": "code",
   "execution_count": 5,
   "metadata": {},
   "outputs": [
    {
     "name": "stdout",
     "output_type": "stream",
     "text": [
      "+--------------------+--------------------+------------------+------------+\n",
      "|                data|            includes|              meta|extract_date|\n",
      "+--------------------+--------------------+------------------+------------+\n",
      "|[{38, 37, 2025-01...|{[{2025-01-29T18:...|{1234567890abcdef}|  2025-01-30|\n",
      "|[{66, 27, 2025-01...|{[{2025-01-29T08:...|{1234567890abcdef}|  2025-01-30|\n",
      "|[{47, 44, 2025-01...|{[{2025-01-29T10:...|{1234567890abcdef}|  2025-01-30|\n",
      "|[{53, 93, 2025-01...|{[{2025-01-29T16:...|              null|  2025-01-30|\n",
      "|[{12, 41, 2025-01...|{[{2025-01-26T11:...|{1234567890abcdef}|  2025-01-26|\n",
      "|[{79, 19, 2025-01...|{[{2025-01-26T03:...|              null|  2025-01-26|\n",
      "|[{33, 69, 2025-01...|{[{2025-01-25T12:...|{1234567890abcdef}|  2025-01-25|\n",
      "|[{50, 24, 2025-01...|{[{2025-01-25T15:...|              null|  2025-01-25|\n",
      "|[{74, 95, 2025-01...|{[{2025-01-24T13:...|              null|  2025-01-24|\n",
      "+--------------------+--------------------+------------------+------------+\n",
      "\n"
     ]
    }
   ],
   "source": [
    "df.show()"
   ]
  },
  {
   "cell_type": "code",
   "execution_count": null,
   "metadata": {},
   "outputs": [],
   "source": []
  },
  {
   "cell_type": "code",
   "execution_count": 8,
   "metadata": {},
   "outputs": [
    {
     "name": "stdout",
     "output_type": "stream",
     "text": [
      "root\n",
      " |-- data: array (nullable = true)\n",
      " |    |-- element: struct (containsNull = true)\n",
      " |    |    |-- author_id: string (nullable = true)\n",
      " |    |    |-- conversation_id: string (nullable = true)\n",
      " |    |    |-- created_at: string (nullable = true)\n",
      " |    |    |-- edit_history_tweet_ids: array (nullable = true)\n",
      " |    |    |    |-- element: long (containsNull = true)\n",
      " |    |    |-- id: string (nullable = true)\n",
      " |    |    |-- in_reply_to_user_id: string (nullable = true)\n",
      " |    |    |-- lang: string (nullable = true)\n",
      " |    |    |-- public_metrics: struct (nullable = true)\n",
      " |    |    |    |-- like_count: long (nullable = true)\n",
      " |    |    |    |-- quote_count: long (nullable = true)\n",
      " |    |    |    |-- reply_count: long (nullable = true)\n",
      " |    |    |    |-- retweet_count: long (nullable = true)\n",
      " |    |    |-- text: string (nullable = true)\n",
      " |-- includes: struct (nullable = true)\n",
      " |    |-- users: array (nullable = true)\n",
      " |    |    |-- element: struct (containsNull = true)\n",
      " |    |    |    |-- created_at: string (nullable = true)\n",
      " |    |    |    |-- id: string (nullable = true)\n",
      " |    |    |    |-- name: string (nullable = true)\n",
      " |    |    |    |-- username: string (nullable = true)\n",
      " |-- meta: struct (nullable = true)\n",
      " |    |-- next_token: string (nullable = true)\n",
      " |-- extract_date: date (nullable = true)\n",
      "\n"
     ]
    }
   ],
   "source": [
    "df.printSchema()"
   ]
  },
  {
   "cell_type": "code",
   "execution_count": 9,
   "metadata": {},
   "outputs": [],
   "source": [
    "from pyspark.sql import functions as f"
   ]
  },
  {
   "cell_type": "code",
   "execution_count": 10,
   "metadata": {},
   "outputs": [
    {
     "name": "stdout",
     "output_type": "stream",
     "text": [
      "root\n",
      " |-- col: struct (nullable = true)\n",
      " |    |-- author_id: string (nullable = true)\n",
      " |    |-- conversation_id: string (nullable = true)\n",
      " |    |-- created_at: string (nullable = true)\n",
      " |    |-- edit_history_tweet_ids: array (nullable = true)\n",
      " |    |    |-- element: long (containsNull = true)\n",
      " |    |-- id: string (nullable = true)\n",
      " |    |-- in_reply_to_user_id: string (nullable = true)\n",
      " |    |-- lang: string (nullable = true)\n",
      " |    |-- public_metrics: struct (nullable = true)\n",
      " |    |    |-- like_count: long (nullable = true)\n",
      " |    |    |-- quote_count: long (nullable = true)\n",
      " |    |    |-- reply_count: long (nullable = true)\n",
      " |    |    |-- retweet_count: long (nullable = true)\n",
      " |    |-- text: string (nullable = true)\n",
      "\n"
     ]
    }
   ],
   "source": [
    "df.select(f.explode(\"data\")).printSchema()"
   ]
  },
  {
   "cell_type": "code",
   "execution_count": 11,
   "metadata": {},
   "outputs": [
    {
     "name": "stdout",
     "output_type": "stream",
     "text": [
      "+--------------------+\n",
      "|                 col|\n",
      "+--------------------+\n",
      "|{38, 37, 2025-01-...|\n",
      "|{43, 20, 2025-01-...|\n",
      "|{78, 23, 2025-01-...|\n",
      "|{61, 54, 2025-01-...|\n",
      "|{18, 75, 2025-01-...|\n",
      "|{50, 86, 2025-01-...|\n",
      "|{0, 87, 2025-01-2...|\n",
      "|{63, 88, 2025-01-...|\n",
      "|{19, 43, 2025-01-...|\n",
      "|{61, 9, 2025-01-2...|\n",
      "|{66, 27, 2025-01-...|\n",
      "|{35, 89, 2025-01-...|\n",
      "|{31, 24, 2025-01-...|\n",
      "|{42, 89, 2025-01-...|\n",
      "|{82, 14, 2025-01-...|\n",
      "|{91, 24, 2025-01-...|\n",
      "|{10, 5, 2025-01-2...|\n",
      "|{92, 85, 2025-01-...|\n",
      "|{90, 96, 2025-01-...|\n",
      "|{39, 47, 2025-01-...|\n",
      "+--------------------+\n",
      "only showing top 20 rows\n",
      "\n"
     ]
    }
   ],
   "source": [
    "df.select(f.explode(\"data\")).show()"
   ]
  },
  {
   "cell_type": "code",
   "execution_count": 14,
   "metadata": {},
   "outputs": [
    {
     "name": "stdout",
     "output_type": "stream",
     "text": [
      "root\n",
      " |-- author_id: string (nullable = true)\n",
      " |-- conversation_id: string (nullable = true)\n",
      " |-- created_at: string (nullable = true)\n",
      " |-- id: string (nullable = true)\n",
      " |-- like_count: long (nullable = true)\n",
      " |-- quote_count: long (nullable = true)\n",
      " |-- reply_count: long (nullable = true)\n",
      " |-- retweet_count: long (nullable = true)\n",
      " |-- text: string (nullable = true)\n",
      "\n"
     ]
    }
   ],
   "source": [
    "df.select(f.explode(\"data\").alias(\"tweets\"))\\\n",
    "    .select(\"tweets.author_id\",\"tweets.conversation_id\",\n",
    "            \"tweets.created_at\",\"tweets.id\",\n",
    "            \"tweets.public_metrics.*\",\"tweets.text\").printSchema()"
   ]
  },
  {
   "cell_type": "code",
   "execution_count": 17,
   "metadata": {},
   "outputs": [],
   "source": [
    "tweet_df=df.select(f.explode(\"data\").alias(\"tweets\"))\\\n",
    "    .select(\"tweets.author_id\",\"tweets.conversation_id\",\n",
    "            \"tweets.created_at\",\"tweets.id\",\n",
    "            \"tweets.public_metrics.*\",\"tweets.text\")   # O * no campo 'tweets.public_metrics.*' tras todas o campos abaixo dele como coluna"
   ]
  },
  {
   "cell_type": "code",
   "execution_count": 19,
   "metadata": {},
   "outputs": [
    {
     "name": "stdout",
     "output_type": "stream",
     "text": [
      "+---------+---------------+--------------------+---+----------+-----------+-----------+-------------+--------------------+\n",
      "|author_id|conversation_id|          created_at| id|like_count|quote_count|reply_count|retweet_count|                text|\n",
      "+---------+---------------+--------------------+---+----------+-----------+-----------+-------------+--------------------+\n",
      "|       38|             37|2025-01-29T13:04:...| 37|        35|         93|         62|           57|Outro tweet fictí...|\n",
      "|       43|             20|2025-01-29T16:22:...| 28|        18|         48|         23|           29|Outro tweet fictí...|\n",
      "|       78|             23|2025-01-29T01:52:...| 50|         7|         89|         59|            1|Tweet fictício ge...|\n",
      "|       61|             54|2025-01-29T19:15:...| 56|        50|         75|         85|           74|Este é um tweet f...|\n",
      "|       18|             75|2025-01-29T09:34:...| 60|        56|         64|        100|           27|Este é um tweet f...|\n",
      "|       50|             86|2025-01-29T19:07:...| 32|        22|         36|         64|           83|Tweet fictício ge...|\n",
      "|        0|             87|2025-01-29T18:24:...| 88|        55|         97|         35|           50|Outro tweet fictí...|\n",
      "|       63|             88|2025-01-29T22:48:...| 37|        82|         52|         63|           19|Um terceiro tweet...|\n",
      "|       19|             43|2025-01-29T15:00:...| 59|        42|         93|         88|           31|Outro tweet fictí...|\n",
      "|       61|              9|2025-01-29T10:29:...| 41|        83|         99|         54|            6|Outro tweet fictí...|\n",
      "|       66|             27|2025-01-29T02:34:...|  0|        32|         87|         83|           30|Tweet fictício ge...|\n",
      "|       35|             89|2025-01-29T04:15:...| 53|        75|         58|         62|           90|Tweet fictício cr...|\n",
      "|       31|             24|2025-01-29T13:24:...| 78|        91|         84|         89|            3|Um terceiro tweet...|\n",
      "|       42|             89|2025-01-29T09:56:...| 85|        44|         78|         14|           43|Outro tweet fictí...|\n",
      "|       82|             14|2025-01-29T12:50:...| 92|        75|         25|         58|           46|Um terceiro tweet...|\n",
      "|       91|             24|2025-01-29T03:26:...| 17|        99|         76|         69|           68|Este é um tweet f...|\n",
      "|       10|              5|2025-01-29T22:49:...|  7|        71|          5|         63|           83|Tweet fictício ge...|\n",
      "|       92|             85|2025-01-29T20:19:...| 46|        39|         76|         14|           76|Tweet fictício cr...|\n",
      "|       90|             96|2025-01-29T20:00:...| 66|        63|         53|         43|           94|Outro tweet fictí...|\n",
      "|       39|             47|2025-01-29T20:44:...| 42|        96|         91|         95|           65|Tweet fictício ge...|\n",
      "+---------+---------------+--------------------+---+----------+-----------+-----------+-------------+--------------------+\n",
      "only showing top 20 rows\n",
      "\n"
     ]
    }
   ],
   "source": [
    "tweet_df.show()"
   ]
  },
  {
   "cell_type": "code",
   "execution_count": 22,
   "metadata": {},
   "outputs": [
    {
     "name": "stdout",
     "output_type": "stream",
     "text": [
      "root\n",
      " |-- data: array (nullable = true)\n",
      " |    |-- element: struct (containsNull = true)\n",
      " |    |    |-- author_id: string (nullable = true)\n",
      " |    |    |-- conversation_id: string (nullable = true)\n",
      " |    |    |-- created_at: string (nullable = true)\n",
      " |    |    |-- edit_history_tweet_ids: array (nullable = true)\n",
      " |    |    |    |-- element: long (containsNull = true)\n",
      " |    |    |-- id: string (nullable = true)\n",
      " |    |    |-- in_reply_to_user_id: string (nullable = true)\n",
      " |    |    |-- lang: string (nullable = true)\n",
      " |    |    |-- public_metrics: struct (nullable = true)\n",
      " |    |    |    |-- like_count: long (nullable = true)\n",
      " |    |    |    |-- quote_count: long (nullable = true)\n",
      " |    |    |    |-- reply_count: long (nullable = true)\n",
      " |    |    |    |-- retweet_count: long (nullable = true)\n",
      " |    |    |-- text: string (nullable = true)\n",
      " |-- includes: struct (nullable = true)\n",
      " |    |-- users: array (nullable = true)\n",
      " |    |    |-- element: struct (containsNull = true)\n",
      " |    |    |    |-- created_at: string (nullable = true)\n",
      " |    |    |    |-- id: string (nullable = true)\n",
      " |    |    |    |-- name: string (nullable = true)\n",
      " |    |    |    |-- username: string (nullable = true)\n",
      " |-- meta: struct (nullable = true)\n",
      " |    |-- next_token: string (nullable = true)\n",
      " |-- extract_date: date (nullable = true)\n",
      "\n"
     ]
    }
   ],
   "source": [
    "df.printSchema()"
   ]
  },
  {
   "cell_type": "code",
   "execution_count": 31,
   "metadata": {},
   "outputs": [
    {
     "name": "stdout",
     "output_type": "stream",
     "text": [
      "root\n",
      " |-- created_at: string (nullable = true)\n",
      " |-- id: string (nullable = true)\n",
      " |-- name: string (nullable = true)\n",
      " |-- username: string (nullable = true)\n",
      "\n"
     ]
    }
   ],
   "source": [
    "df.select(f.explode(\"includes.users\").alias(\"users\")).select(\"users.created_at\",\"users.id\",\"users.name\",\"users.username\").printSchema()"
   ]
  },
  {
   "cell_type": "code",
   "execution_count": 35,
   "metadata": {},
   "outputs": [],
   "source": [
    "users_df=df.select(f.explode(\"includes.users\").alias(\"users\"))\\\n",
    "    .select(\"users.created_at\",\"users.id\",\"users.name\",\"users.username\")"
   ]
  },
  {
   "cell_type": "code",
   "execution_count": 36,
   "metadata": {},
   "outputs": [
    {
     "name": "stdout",
     "output_type": "stream",
     "text": [
      "+--------------------+---+-------+--------+\n",
      "|          created_at| id|   name|username|\n",
      "+--------------------+---+-------+--------+\n",
      "|2025-01-29T18:17:...| 44| User 1|   user1|\n",
      "|2025-01-29T02:00:...|  0| User 2|   user2|\n",
      "|2025-01-29T12:29:...|  2| User 3|   user3|\n",
      "|2025-01-29T03:47:...| 29| User 4|   user4|\n",
      "|2025-01-29T08:56:...| 56| User 5|   user5|\n",
      "|2025-01-29T12:23:...| 19| User 6|   user6|\n",
      "|2025-01-29T09:42:...|  9| User 7|   user7|\n",
      "|2025-01-29T04:57:...| 50| User 8|   user8|\n",
      "|2025-01-29T10:56:...| 53| User 9|   user9|\n",
      "|2025-01-29T05:18:...| 16|User 10|  user10|\n",
      "|2025-01-29T08:15:...| 76| User 1|   user1|\n",
      "|2025-01-29T22:49:...| 99| User 2|   user2|\n",
      "|2025-01-29T20:45:...| 55| User 3|   user3|\n",
      "|2025-01-29T05:42:...| 92| User 4|   user4|\n",
      "|2025-01-29T12:15:...| 14| User 5|   user5|\n",
      "|2025-01-29T18:09:...| 96| User 6|   user6|\n",
      "|2025-01-29T07:38:...| 63| User 7|   user7|\n",
      "|2025-01-29T17:47:...| 54| User 8|   user8|\n",
      "|2025-01-29T20:41:...| 85| User 9|   user9|\n",
      "|2025-01-29T11:50:...| 33|User 10|  user10|\n",
      "+--------------------+---+-------+--------+\n",
      "only showing top 20 rows\n",
      "\n"
     ]
    }
   ],
   "source": [
    "users_df.show()"
   ]
  },
  {
   "cell_type": "code",
   "execution_count": 38,
   "metadata": {},
   "outputs": [],
   "source": [
    "tweet_df.coalesce(1).write.mode(\"overwrite\").json(\"output/tweet\")\n",
    "users_df.coalesce(1).write.mode(\"overwrite\").json(\"output/user\")"
   ]
  }
 ],
 "metadata": {
  "kernelspec": {
   "display_name": "Python 3",
   "language": "python",
   "name": "python3"
  },
  "language_info": {
   "codemirror_mode": {
    "name": "ipython",
    "version": 3
   },
   "file_extension": ".py",
   "mimetype": "text/x-python",
   "name": "python",
   "nbconvert_exporter": "python",
   "pygments_lexer": "ipython3",
   "version": "3.10.12"
  }
 },
 "nbformat": 4,
 "nbformat_minor": 2
}
