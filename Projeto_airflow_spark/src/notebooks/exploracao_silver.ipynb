{
 "cells": [
  {
   "cell_type": "code",
   "execution_count": 1,
   "metadata": {},
   "outputs": [],
   "source": [
    "from pyspark.sql import  SparkSession"
   ]
  },
  {
   "cell_type": "code",
   "execution_count": 3,
   "metadata": {},
   "outputs": [
    {
     "name": "stdout",
     "output_type": "stream",
     "text": [
      "25/01/31 10:42:53 WARN SparkSession: Using an existing Spark session; only runtime SQL configurations will take effect.\n"
     ]
    }
   ],
   "source": [
    "spark = SparkSession\\\n",
    "    .builder\\\n",
    "    .appName(\"twitter_silver\")\\\n",
    "    .getOrCreate()"
   ]
  },
  {
   "cell_type": "code",
   "execution_count": 20,
   "metadata": {},
   "outputs": [],
   "source": [
    "df_tweet = spark.read.json(\"/home/maxweber/Notbook/datalake/Silver/twitter_datascience/tweet\")"
   ]
  },
  {
   "cell_type": "code",
   "execution_count": 21,
   "metadata": {},
   "outputs": [
    {
     "name": "stdout",
     "output_type": "stream",
     "text": [
      "root\n",
      " |-- author_id: string (nullable = true)\n",
      " |-- conversation_id: string (nullable = true)\n",
      " |-- created_at: string (nullable = true)\n",
      " |-- id: string (nullable = true)\n",
      " |-- like_count: long (nullable = true)\n",
      " |-- quote_count: long (nullable = true)\n",
      " |-- reply_count: long (nullable = true)\n",
      " |-- retweet_count: long (nullable = true)\n",
      " |-- text: string (nullable = true)\n",
      " |-- proecess_date: date (nullable = true)\n",
      "\n"
     ]
    }
   ],
   "source": [
    "df_tweet.printSchema()"
   ]
  },
  {
   "cell_type": "code",
   "execution_count": 11,
   "metadata": {},
   "outputs": [],
   "source": [
    "from pyspark.sql import functions as f"
   ]
  },
  {
   "cell_type": "code",
   "execution_count": 22,
   "metadata": {},
   "outputs": [],
   "source": [
    "tweet_conversas = df_tweet.alias(\"tweet\")\\\n",
    "                 .groupBy(f.to_date(\"created_at\").alias('create_date'))\\\n",
    "                  .agg(\n",
    "                      f.count_distinct(\"author_id\").alias(\"n_twwits\"),\n",
    "                      f.sum(\"like_count\").alias(\"n_like\"),\n",
    "                      f.sum(\"quote_count\").alias(\"n_quote\"),\n",
    "                      f.sum(\"quote_count\").alias(\"n_quote\"),\n",
    "                      f.sum(\"retweet_count\").alias(\"n_retweet\")\n",
    "                  ).withColumn(\"weekday\",f.date_format(\"create_date\",\"E\"))\n",
    "\n",
    "\n"
   ]
  },
  {
   "cell_type": "markdown",
   "metadata": {},
   "source": []
  },
  {
   "cell_type": "code",
   "execution_count": 18,
   "metadata": {},
   "outputs": [
    {
     "name": "stdout",
     "output_type": "stream",
     "text": [
      "+-----------+--------+------+-------+-------+---------+-------+\n",
      "|create_date|n_twwits|n_like|n_quote|n_quote|n_retweet|weekday|\n",
      "+-----------+--------+------+-------+-------+---------+-------+\n",
      "| 2025-01-28|      10|   430|    531|    531|      493|    Tue|\n",
      "| 2025-01-29|      35|  2140|   1826|   1826|     2034|    Wed|\n",
      "| 2025-01-26|      18|  1236|    946|    946|      966|    Sun|\n",
      "| 2025-01-30|      44|  4221|   3512|   3512|     4163|    Thu|\n",
      "| 2025-01-27|      10|   522|    621|    621|      562|    Mon|\n",
      "| 2025-01-25|      20|  1033|   1016|   1016|     1089|    Sat|\n",
      "+-----------+--------+------+-------+-------+---------+-------+\n",
      "\n"
     ]
    }
   ],
   "source": [
    "tweet_conversas.show()"
   ]
  },
  {
   "cell_type": "code",
   "execution_count": null,
   "metadata": {},
   "outputs": [],
   "source": []
  }
 ],
 "metadata": {
  "kernelspec": {
   "display_name": "Python 3",
   "language": "python",
   "name": "python3"
  },
  "language_info": {
   "codemirror_mode": {
    "name": "ipython",
    "version": 3
   },
   "file_extension": ".py",
   "mimetype": "text/x-python",
   "name": "python",
   "nbconvert_exporter": "python",
   "pygments_lexer": "ipython3",
   "version": "3.10.12"
  }
 },
 "nbformat": 4,
 "nbformat_minor": 2
}
